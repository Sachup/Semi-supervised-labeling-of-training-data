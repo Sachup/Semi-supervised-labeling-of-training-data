{
 "cells": [
  {
   "cell_type": "code",
   "execution_count": null,
   "id": "10e23466",
   "metadata": {},
   "outputs": [],
   "source": [
    "#This code is written by myself with the help of online resources"
   ]
  },
  {
   "cell_type": "code",
   "execution_count": null,
   "id": "f68f9326",
   "metadata": {},
   "outputs": [],
   "source": [
    "import tensorflow as tf\n",
    "import numpy as np\n",
    "import os\n",
    "import matplotlib.pyplot as plt\n",
    "from tensorflow.keras.preprocessing import image"
   ]
  },
  {
   "cell_type": "code",
   "execution_count": null,
   "id": "778827f3",
   "metadata": {},
   "outputs": [],
   "source": [
    "data_path = r'C:\\Users\\sachu\\Desktop\\My_Documents\\Research_Project\\Computer_Graphics\\CAR_TEST\\Transfer_Learning\\50_input_set'"
   ]
  },
  {
   "cell_type": "code",
   "execution_count": null,
   "id": "f7216529",
   "metadata": {},
   "outputs": [],
   "source": [
    "test_dir = r'C:\\Users\\sachu\\Desktop\\My_Documents\\Research_Project\\Computer_Graphics\\CAR_TEST\\Transfer_Learning\\Car_test_from_mobilenet_SSD\\Test_dir'"
   ]
  },
  {
   "cell_type": "code",
   "execution_count": null,
   "id": "c5a3af62",
   "metadata": {},
   "outputs": [],
   "source": [
    "train_dir = os.path.join(data_path,'train')\n",
    "val_dir = os.path.join(data_path,'validation')"
   ]
  },
  {
   "cell_type": "code",
   "execution_count": null,
   "id": "85315033",
   "metadata": {},
   "outputs": [],
   "source": [
    "train_dir, val_dir,test_dir"
   ]
  },
  {
   "cell_type": "code",
   "execution_count": null,
   "id": "891995f9",
   "metadata": {},
   "outputs": [],
   "source": [
    "IMG_SIZE =(160,160)\n",
    "BATCH_SIZE =5"
   ]
  },
  {
   "cell_type": "code",
   "execution_count": null,
   "id": "dc1756ae",
   "metadata": {},
   "outputs": [],
   "source": [
    "train_dataset = tf.keras.utils.image_dataset_from_directory(\n",
    "    train_dir,\n",
    "    shuffle=True,\n",
    "    batch_size=BATCH_SIZE,\n",
    "    image_size=IMG_SIZE\n",
    ")\n",
    "\n",
    "val_dataset = tf.keras.utils.image_dataset_from_directory(\n",
    "    val_dir,\n",
    "    shuffle=True,\n",
    "    batch_size=BATCH_SIZE,\n",
    "    image_size=IMG_SIZE\n",
    ")"
   ]
  },
  {
   "cell_type": "code",
   "execution_count": null,
   "id": "f96bc40c",
   "metadata": {},
   "outputs": [],
   "source": [
    "  class_names = train_dataset.class_names\n",
    "\n",
    "  plt.figure(figsize=(10,10))\n",
    "  for images, labels in train_dataset.take(1):\n",
    "    for i in range(5):\n",
    "      ax = plt.subplot(3,3,i + 1)\n",
    "      plt.imshow(images[i].numpy().astype(\"uint8\"))\n",
    "      plt.title(class_names[labels[i]])\n",
    "      plt.axis(\"off\")"
   ]
  },
  {
   "cell_type": "code",
   "execution_count": null,
   "id": "2cb55b1b",
   "metadata": {},
   "outputs": [],
   "source": [
    "\n",
    " validation_dataset = val_dataset"
   ]
  },
  {
   "cell_type": "code",
   "execution_count": null,
   "id": "48d290a7",
   "metadata": {},
   "outputs": [],
   "source": [
    "print('Number of validation batches:%d' %tf.data.experimental.cardinality(validation_dataset))\n"
   ]
  },
  {
   "cell_type": "code",
   "execution_count": null,
   "id": "fdaa3a9a",
   "metadata": {},
   "outputs": [],
   "source": [
    "AUTOTUNE = tf.data.AUTOTUNE\n",
    "\n",
    "train_dataset = train_dataset.prefetch(buffer_size=AUTOTUNE)\n",
    "validation_dataset =validation_dataset.prefetch(buffer_size=AUTOTUNE)\n"
   ]
  },
  {
   "cell_type": "code",
   "execution_count": null,
   "id": "0b7c9061",
   "metadata": {},
   "outputs": [],
   "source": [
    "data_aug = tf.keras.Sequential([\n",
    "    tf.keras.layers.RandomFlip('horizontal'),\n",
    "    tf.keras.layers.RandomRotation(0.2)\n",
    "])"
   ]
  },
  {
   "cell_type": "code",
   "execution_count": null,
   "id": "5865e739",
   "metadata": {},
   "outputs": [],
   "source": [
    "for image, labels in train_dataset.take(1):\n",
    "  plt.figure(figsize=(10,10))\n",
    "  first_image = image[3]\n",
    "  for i in range(9):\n",
    "    ax =plt.subplot(3,3,i+1)\n",
    "    augmented_image = data_aug(tf.expand_dims(first_image,0))\n",
    "    plt.imshow(augmented_image[0]/255)\n",
    "    plt.axis('off')"
   ]
  },
  {
   "cell_type": "code",
   "execution_count": null,
   "id": "dcb21c40",
   "metadata": {},
   "outputs": [],
   "source": [
    "IMG_SHAPE = IMG_SIZE + (3,)"
   ]
  },
  {
   "cell_type": "code",
   "execution_count": null,
   "id": "969c26a2",
   "metadata": {},
   "outputs": [],
   "source": [
    "base_model = tf.keras.applications.MobileNetV2(\n",
    "    input_shape =IMG_SHAPE,\n",
    "    include_top = False,\n",
    "    weights = 'imagenet',\n",
    ")"
   ]
  },
  {
   "cell_type": "code",
   "execution_count": null,
   "id": "7ffe181d",
   "metadata": {},
   "outputs": [],
   "source": [
    "preprocess_input = tf.keras.applications.mobilenet_v2.preprocess_input"
   ]
  },
  {
   "cell_type": "code",
   "execution_count": null,
   "id": "074a7d95",
   "metadata": {},
   "outputs": [],
   "source": [
    "image_batch, label_batch = next(iter(train_dataset))\n",
    "feature=base_model(image_batch)\n",
    "print(feature.shape)"
   ]
  },
  {
   "cell_type": "code",
   "execution_count": null,
   "id": "a08daedc",
   "metadata": {},
   "outputs": [],
   "source": [
    "base_model.trainable = False"
   ]
  },
  {
   "cell_type": "code",
   "execution_count": null,
   "id": "948be09d",
   "metadata": {},
   "outputs": [],
   "source": [
    "global_average_layer = tf.keras.layers.GlobalAveragePooling2D()\n",
    "feature_batch_average = global_average_layer(feature)\n",
    "print(feature_batch_average.shape)"
   ]
  },
  {
   "cell_type": "code",
   "execution_count": null,
   "id": "77128d3f",
   "metadata": {},
   "outputs": [],
   "source": [
    "prediction_layer = tf.keras.layers.Dense(1)\n",
    "prediction_batch = prediction_layer(feature_batch_average)\n",
    "print(prediction_batch.shape)"
   ]
  },
  {
   "cell_type": "code",
   "execution_count": null,
   "id": "acd29692",
   "metadata": {},
   "outputs": [],
   "source": [
    "inputs = tf.keras.Input(shape=(160,160,3))\n",
    "x = data_aug(inputs)\n",
    "x= preprocess_input(x)\n",
    "x=base_model(x,training = False)\n",
    "x=global_average_layer(x)\n",
    "x=tf.keras.layers.Dropout(0.2)(x)\n",
    "outputs = prediction_layer(x)\n",
    "model = tf.keras.Model(inputs,outputs)"
   ]
  },
  {
   "cell_type": "code",
   "execution_count": null,
   "id": "d83b1a83",
   "metadata": {},
   "outputs": [],
   "source": [
    "base_learning_rate = 0.0001\n",
    "model.compile(optimizer=tf.keras.optimizers.Adam(learning_rate=base_learning_rate),\n",
    "              loss=tf.keras.losses.BinaryCrossentropy(from_logits=True),\n",
    "              metrics = ['accuracy']\n",
    "\n",
    "\n",
    ")"
   ]
  },
  {
   "cell_type": "code",
   "execution_count": null,
   "id": "48ae1c7d",
   "metadata": {},
   "outputs": [],
   "source": [
    "model.summary()"
   ]
  },
  {
   "cell_type": "code",
   "execution_count": null,
   "id": "430a8f88",
   "metadata": {},
   "outputs": [],
   "source": [
    "initial_epochs=20\n",
    "#loss0,acc0 = model.evaluate(test_dataset)"
   ]
  },
  {
   "cell_type": "code",
   "execution_count": null,
   "id": "ac5dbb19",
   "metadata": {},
   "outputs": [],
   "source": [
    "#print('initial loss:{:.2f}'.format(loss0))\n",
    "#print('initial acc:{:.2f}'.format(acc0))"
   ]
  },
  {
   "cell_type": "code",
   "execution_count": null,
   "id": "8823b9a0",
   "metadata": {},
   "outputs": [],
   "source": [
    "history = model.fit(\n",
    "    train_dataset,\n",
    "    epochs = initial_epochs,\n",
    "    validation_data = validation_dataset\n",
    ")"
   ]
  },
  {
   "cell_type": "code",
   "execution_count": null,
   "id": "8e5f5be7",
   "metadata": {},
   "outputs": [],
   "source": [
    "acc = history.history['accuracy']\n",
    "val_acc = history.history['val_accuracy']\n",
    "\n",
    "loss = history.history['loss']\n",
    "val_loss = history.history['val_loss']\n",
    "\n",
    "plt.figure(figsize=(8, 8))\n",
    "plt.subplot(2, 1, 1)\n",
    "plt.plot(acc, label='Training Accuracy')\n",
    "plt.plot(val_acc, label='Validation Accuracy')\n",
    "plt.legend(loc='lower right')\n",
    "plt.ylabel('Accuracy')\n",
    "plt.ylim([min(plt.ylim()),1])\n",
    "plt.title('Training and Validation Accuracy')\n",
    "\n",
    "plt.subplot(2, 1, 2)\n",
    "plt.plot(loss, label='Training Loss')\n",
    "plt.plot(val_loss, label='Validation Loss')\n",
    "plt.legend(loc='upper right')\n",
    "plt.ylabel('Cross Entropy')\n",
    "plt.ylim([0,1.0])\n",
    "plt.title('Training and Validation Loss')\n",
    "plt.xlabel('epoch')\n",
    "plt.show()"
   ]
  },
  {
   "cell_type": "code",
   "execution_count": null,
   "id": "26aa7ddf",
   "metadata": {},
   "outputs": [],
   "source": [
    "base_model.trainable = True"
   ]
  },
  {
   "cell_type": "code",
   "execution_count": null,
   "id": "c5624bea",
   "metadata": {},
   "outputs": [],
   "source": [
    "\n",
    "print(\"Number of layers in the base model: \", len(base_model.layers))\n",
    "\n",
    "\n",
    "fine_tune_at = 100\n",
    "\n",
    "\n",
    "for layer in base_model.layers[:fine_tune_at]:\n",
    "  layer.trainable = False"
   ]
  },
  {
   "cell_type": "code",
   "execution_count": null,
   "id": "a840180a",
   "metadata": {},
   "outputs": [],
   "source": [
    "model.summary()"
   ]
  },
  {
   "cell_type": "code",
   "execution_count": null,
   "id": "2782a9f1",
   "metadata": {},
   "outputs": [],
   "source": [
    "model.compile(\n",
    "    loss=tf.keras.losses.BinaryCrossentropy(from_logits=True),\n",
    "    optimizer = tf.keras.optimizers.RMSprop(learning_rate=base_learning_rate/10),\n",
    "    metrics=['accuracy']\n",
    ")"
   ]
  },
  {
   "cell_type": "code",
   "execution_count": null,
   "id": "17b9c450",
   "metadata": {},
   "outputs": [],
   "source": [
    "fine_tune_epochs = 10\n",
    "total_epochs =  initial_epochs + fine_tune_epochs\n",
    "\n",
    "history_fine = model.fit(\n",
    "    train_dataset,\n",
    "    epochs=total_epochs,\n",
    "    initial_epoch=history.epoch[-1],\n",
    "    validation_data=validation_dataset\n",
    ")"
   ]
  },
  {
   "cell_type": "code",
   "execution_count": null,
   "id": "bbcea9c7",
   "metadata": {},
   "outputs": [],
   "source": [
    "acc += history_fine.history['accuracy']\n",
    "val_acc += history_fine.history['val_accuracy']\n",
    "\n",
    "loss += history_fine.history['loss']\n",
    "val_loss += history_fine.history['val_loss']"
   ]
  },
  {
   "cell_type": "code",
   "execution_count": null,
   "id": "51a258eb",
   "metadata": {},
   "outputs": [],
   "source": [
    "plt.figure(figsize=(8, 8))\n",
    "plt.subplot(2, 1, 1)\n",
    "plt.plot(acc, label='Training Accuracy')\n",
    "plt.plot(val_acc, label='Validation Accuracy')\n",
    "plt.ylim([0, 1])\n",
    "plt.plot([initial_epochs-1,initial_epochs-1],\n",
    "          plt.ylim(), label='Start Fine Tuning')\n",
    "plt.legend(loc='lower right')\n",
    "plt.title('Training and Validation Accuracy')\n",
    "\n",
    "plt.subplot(2, 1, 2)\n",
    "plt.plot(loss, label='Training Loss')\n",
    "plt.plot(val_loss, label='Validation Loss')\n",
    "plt.ylim([0, 1.0])\n",
    "plt.plot([initial_epochs-1,initial_epochs-1],\n",
    "         plt.ylim(), label='Start Fine Tuning')\n",
    "plt.legend(loc='upper right')\n",
    "plt.title('Training and Validation Loss')\n",
    "plt.xlabel('epoch')\n",
    "plt.show()"
   ]
  },
  {
   "cell_type": "code",
   "execution_count": null,
   "id": "75b6c3ae",
   "metadata": {},
   "outputs": [],
   "source": [
    "#loss, accuracy = model.evaluate(test_dataset)\n",
    "#print('Test accuracy :', accuracy)"
   ]
  },
  {
   "cell_type": "code",
   "execution_count": null,
   "id": "dfbc6394",
   "metadata": {},
   "outputs": [],
   "source": [
    "def fun():\n",
    "    test_dir = r'C:\\Users\\sachu\\Desktop\\My_Documents\\Research_Project\\Computer_Graphics\\CAR_TEST\\Transfer_Learning\\Car_test_from_mobilenet_SSD\\test1'\n",
    "    IMG_SIZE =(160,160)\n",
    "    global test_dataset\n",
    "    test_dataset = tf.keras.utils.image_dataset_from_directory(\n",
    "    test_dir,\n",
    "    shuffle=False,\n",
    "    image_size = IMG_SIZE)\n",
    "    test_dataset = test_dataset.prefetch(buffer_size=AUTOTUNE)\n",
    "    \n",
    "\n",
    "    "
   ]
  },
  {
   "cell_type": "code",
   "execution_count": null,
   "id": "95566d87",
   "metadata": {},
   "outputs": [],
   "source": [
    "def pred():\n",
    "    image_batch,label_batch= test_dataset.as_numpy_iterator().next()\n",
    "    predictions = model.predict_on_batch(image_batch).flatten()\n",
    "    #print(predictions)\n",
    "    predictions = tf.nn.sigmoid(predictions)\n",
    "    #print(predictions)\n",
    "    predictions = tf.where(predictions < 0.5, 0, 1)\n",
    "    #print('Predictions:\\n', predictions.numpy())\n",
    "    return predictions\n",
    "    "
   ]
  },
  {
   "cell_type": "code",
   "execution_count": null,
   "id": "75f44d15",
   "metadata": {},
   "outputs": [],
   "source": [
    "import numpy as np\n",
    "def non_max_suppression_fast(boxes, overlapThresh):\n",
    "    if len(boxes) == 0:\n",
    "        return []\n",
    "    if boxes.dtype.kind == \"i\":\n",
    "        boxes = boxes.astype(\"float\")\n",
    "    pick = []\n",
    "    x1 = boxes[:,0]\n",
    "    y1 = boxes[:,1]\n",
    "    x2 = boxes[:,2]\n",
    "    y2 = boxes[:,3]\n",
    "    area = (x2 - x1 + 1) * (y2 - y1 + 1)\n",
    "    idxs = np.argsort(y2)\n",
    "    \n",
    "    while len(idxs) > 0:\n",
    "        last = len(idxs) - 1\n",
    "        i = idxs[last]\n",
    "        pick.append(i)\n",
    "        xx1 = np.maximum(x1[i], x1[idxs[:last]])\n",
    "        yy1 = np.maximum(y1[i], y1[idxs[:last]])\n",
    "        xx2 = np.minimum(x2[i], x2[idxs[:last]])\n",
    "        yy2 = np.minimum(y2[i], y2[idxs[:last]])\n",
    "        w = np.maximum(0, xx2 - xx1 + 1)\n",
    "        h = np.maximum(0, yy2 - yy1 + 1)\n",
    "        overlap = (w * h) / area[idxs[:last]]\n",
    "        idxs = np.delete(idxs, np.concatenate(([last],np.where(overlap > overlapThresh)[0])))\n",
    "    return boxes[pick].astype(\"int\")\n",
    "                       \n",
    "\n"
   ]
  },
  {
   "cell_type": "code",
   "execution_count": null,
   "id": "b0cf5654",
   "metadata": {},
   "outputs": [],
   "source": [
    "#This is incorprating the sliding window approach to perform identification of object"
   ]
  },
  {
   "cell_type": "code",
   "execution_count": null,
   "id": "23ff1f91",
   "metadata": {},
   "outputs": [],
   "source": [
    "from PIL import Image\n",
    "import os\n",
    "import cv2\n",
    "import uuid\n",
    "import time\n",
    "input = r\"C:\\Users\\sachu\\Desktop\\My_Documents\\Research_Project\\Computer_Graphics\\CAR_TEST\\Transfer_Learning\\Car_test_from_mobilenet_SSD\\Test_dir\\Test_images\"\n",
    "start_time= time.time()\n",
    "for file in os.listdir(input):\n",
    "    \n",
    "    \n",
    "\n",
    "    path=r\"C:\\Users\\sachu\\Desktop\\My_Documents\\Research_Project\\Computer_Graphics\\CAR_TEST\\Transfer_Learning\\Car_test_from_mobilenet_SSD\\test\"\n",
    "    new_path =r\"C:\\Users\\sachu\\Desktop\\My_Documents\\Research_Project\\Computer_Graphics\\CAR_TEST\\Transfer_Learning\\Car_test_from_mobilenet_SSD\\test1\\input\"\n",
    "    height =187\n",
    "    width =310\n",
    "    k = 1\n",
    "    im = Image.open(os.path.join(input,file))\n",
    "    img =[]\n",
    "    g=0\n",
    "    \n",
    "\n",
    "    z=[]\n",
    "    r =[]\n",
    "    imgwidth, imgheight = im.size\n",
    "    i=93\n",
    "    for j in range(155,imgwidth,width):\n",
    "            if imgwidth-j<200 or imgheight-i<10:\n",
    "                break\n",
    "            else:\n",
    "                #print(j)\n",
    "                h = j+width\n",
    "                m = i+height\n",
    "                if (imgheight - m < 5):\n",
    "                    box =(j,i,h,imgheight)\n",
    "                    a =im.crop(box)\n",
    "                    z.append(box)\n",
    "                    img.append(a)\n",
    "                    a.save(os.path.join(path,\"IMG-%s.png\" % k))\n",
    "                    a.save(os.path.join(new_path,\"IMG.png\"))\n",
    "                    fun()\n",
    "                    f = pred()\n",
    "                    if f==g:\n",
    "                        r.append(box)\n",
    "\n",
    "                elif (imgwidth - h <5):\n",
    "                    box =(j,i,imgwidth,m)\n",
    "                    a =im.crop(box)\n",
    "                    z.append(box)\n",
    "                    img.append(a)\n",
    "                    a.save(os.path.join(path,\"IMG-%s.png\" % k))\n",
    "                    a.save(os.path.join(new_path,\"IMG.png\"))\n",
    "                    fun()\n",
    "                    f = pred()\n",
    "                    if f==g:\n",
    "                        r.append(box)\n",
    "                else:\n",
    "                    box = (j, i, h, m)\n",
    "                    a = im.crop(box)\n",
    "                    z.append(box)\n",
    "                    img.append(a)\n",
    "                    a.save(os.path.join(path,\"IMG-%s.png\" % k))\n",
    "                    a.save(os.path.join(new_path,\"IMG.png\"))\n",
    "                    fun()\n",
    "                    f = pred()\n",
    "                    if f==g:\n",
    "                        r.append(box)\n",
    "                try:\n",
    "                    o = a.crop(area)\n",
    "                    #print(o)\n",
    "                    o.save(os.path.join(path,\"PNG\",\"%s\" % page,\"IMG-%s.png\" % k))\n",
    "                    a.save(os.path.join(new_path,\"IMG.png\"))\n",
    "                except:\n",
    "                    pass\n",
    "                k +=1\n",
    "\n",
    "    for j in range(0,imgwidth,width):\n",
    "            if imgwidth-j<10 or imgheight-i<10:\n",
    "                break\n",
    "            else:\n",
    "                #print(j)\n",
    "                h = j+width\n",
    "                m = i+height\n",
    "                if (imgheight - m < 5):\n",
    "                    box =(j,i,h,imgheight)\n",
    "                    a =im.crop(box)\n",
    "                    z.append(box)\n",
    "                    img.append(a)\n",
    "                    a.save(os.path.join(path,\"IMG-%s.png\" % k))\n",
    "                    a.save(os.path.join(new_path,\"IMG.png\"))\n",
    "                    fun()\n",
    "                    f = pred()\n",
    "                    if f==g:\n",
    "                        r.append(box)\n",
    "\n",
    "                elif (imgwidth - h <5):\n",
    "                    box =(j,i,imgwidth,m)\n",
    "                    a =im.crop(box)\n",
    "                    z.append(box)\n",
    "                    img.append(a)\n",
    "                    a.save(os.path.join(path,\"IMG-%s.png\" % k))\n",
    "                    a.save(os.path.join(new_path,\"IMG.png\"))\n",
    "                    fun()\n",
    "                    f = pred()\n",
    "                    if f==g:\n",
    "                        r.append(box)\n",
    "                else:\n",
    "                    box = (j, i, h, m)\n",
    "                    a = im.crop(box)\n",
    "                    z.append(box)\n",
    "                    img.append(a)\n",
    "                    a.save(os.path.join(path,\"IMG-%s.png\" % k))\n",
    "                    a.save(os.path.join(new_path,\"IMG.png\"))\n",
    "                    fun()\n",
    "                    f = pred()\n",
    "                    if f==g:\n",
    "                        r.append(box)\n",
    "                try:\n",
    "                    o = a.crop(area)\n",
    "                    #print(o)\n",
    "                    o.save(os.path.join(path,\"PNG\",\"%s\" % page,\"IMG-%s.png\" % k))\n",
    "                except:\n",
    "                    pass\n",
    "                k +=1\n",
    "    for i in range(0,imgheight,height):\n",
    "        for j in range(0,imgwidth,width):\n",
    "            if imgwidth-j<10 or imgheight-i<10:\n",
    "                break\n",
    "            else:\n",
    "                #print(j)\n",
    "                h = j+width\n",
    "                m = i+height\n",
    "                if (imgheight - m < 5):\n",
    "                    box =(j,i,h,imgheight)\n",
    "                    a =im.crop(box)\n",
    "                    z.append(box)\n",
    "                    img.append(a)\n",
    "                    a.save(os.path.join(path,\"IMG-%s.png\" % k))\n",
    "                    a.save(os.path.join(new_path,\"IMG.png\"))\n",
    "                    fun()\n",
    "                    f = pred()\n",
    "                    if f==g:\n",
    "                        r.append(box)\n",
    "\n",
    "                elif (imgwidth - h <5):\n",
    "                    box =(j,i,imgwidth,m)\n",
    "                    a =im.crop(box)\n",
    "                    z.append(box)\n",
    "                    img.append(a)\n",
    "                    a.save(os.path.join(path,\"IMG-%s.png\" % k))\n",
    "                    a.save(os.path.join(new_path,\"IMG.png\"))\n",
    "                    fun()\n",
    "                    f = pred()\n",
    "                    if f==g:\n",
    "                        r.append(box)\n",
    "                else:\n",
    "                    box = (j, i, h, m)\n",
    "                    a = im.crop(box)\n",
    "                    z.append(box)\n",
    "                    img.append(a)\n",
    "                    a.save(os.path.join(path,\"IMG-%s.png\" % k))\n",
    "                    a.save(os.path.join(new_path,\"IMG.png\"))\n",
    "                    fun()\n",
    "                    f = pred()\n",
    "                    if f==g:\n",
    "                        r.append(box)\n",
    "                try:\n",
    "                    o = a.crop(area)\n",
    "                    #print(o)\n",
    "                    o.save(os.path.join(path,\"PNG\",\"%s\" % page,\"IMG-%s.png\" % k))\n",
    "                    a.save(os.path.join(new_path,\"IMG.png\"))\n",
    "                except:\n",
    "                    pass\n",
    "                k +=1\n",
    "    for i in range(0,imgheight,height):\n",
    "        for j in range(155,imgwidth,width):\n",
    "            if imgwidth-j<200 or imgheight-i<10:\n",
    "                break\n",
    "            else:\n",
    "                #print(j)\n",
    "                h = j+width\n",
    "                m = i+height\n",
    "                if (imgheight - m < 5):\n",
    "                    box =(j,i,h,imgheight)\n",
    "                    a =im.crop(box)\n",
    "                    z.append(box)\n",
    "                    img.append(a)\n",
    "                    a.save(os.path.join(path,\"IMG-%s.png\" % k))\n",
    "                    a.save(os.path.join(new_path,\"IMG.png\"))\n",
    "                    fun()\n",
    "                    f = pred()\n",
    "                    if f==g:\n",
    "                        r.append(box)\n",
    "\n",
    "                elif (imgwidth - h <5):\n",
    "                    box =(j,i,imgwidth,m)\n",
    "                    a =im.crop(box)\n",
    "                    z.append(box)\n",
    "                    img.append(a)\n",
    "                    a.save(os.path.join(path,\"IMG-%s.png\" % k))\n",
    "                    a.save(os.path.join(new_path,\"IMG.png\"))\n",
    "                    fun()\n",
    "                    f = pred()\n",
    "                    if f==g:\n",
    "                        r.append(box)\n",
    "                else:\n",
    "                    box = (j, i, h, m)\n",
    "                    a = im.crop(box)\n",
    "                    z.append(box)\n",
    "                    img.append(a)\n",
    "                    a.save(os.path.join(path,\"IMG-%s.png\" % k))\n",
    "                    a.save(os.path.join(new_path,\"IMG.png\"))\n",
    "                    fun()\n",
    "                    f = pred()\n",
    "                    if f==g:\n",
    "                        r.append(box)\n",
    "                try:\n",
    "                    o = a.crop(area)\n",
    "                    #print(o)\n",
    "                    o.save(os.path.join(path,\"PNG\",\"%s\" % page,\"IMG-%s.png\" % k))\n",
    "                    a.save(os.path.join(new_path,\"IMG.png\"))\n",
    "                except:\n",
    "                    pass\n",
    "                k +=1\n",
    "    #print(z)\n",
    "    r= np.array(r)\n",
    "    q= non_max_suppression_fast(r,0.49)\n",
    "    v=1\n",
    "    Res_Path = r\"C:\\Users\\sachu\\Desktop\\My_Documents\\Research_Project\\Computer_Graphics\\CAR_TEST\\Transfer_Learning\\Car_test_from_mobilenet_SSD\\Result_save\"\n",
    "    \n",
    "    imag=cv2.imread(os.path.join(input,file))\n",
    "    for i in range (len(q)):\n",
    "        left = q[i][:2]\n",
    "        right =q[i][2:4]\n",
    "    cv2.rectangle(imag,left,right,(0,255,0),thickness=2)\n",
    "    cv2.imwrite(os.path.join(Res_Path,'{}.png'.format(uuid.uuid1())),imag)\n",
    "    v +=1\n",
    "stop_time=time.time()\n",
    "duration =stop_time - start_time\n",
    "hours = duration // 3600\n",
    "minutes = (duration - (hours * 3600)) // 60\n",
    "seconds = duration - ((hours * 3600) + (minutes * 60))\n",
    "msg = f'(training elapsed time was {str(hours)} hours, {minutes:4.1f} minutes, {seconds:4.2f} seconds)'\n",
    "print (msg, flush=True) # p\n"
   ]
  },
  {
   "cell_type": "code",
   "execution_count": null,
   "id": "3b40b617",
   "metadata": {
    "scrolled": true
   },
   "outputs": [],
   "source": [
    "print(r)\n",
    "print(type(r))\n",
    "r= np.array(r)\n",
    "print(type(r))"
   ]
  },
  {
   "cell_type": "code",
   "execution_count": null,
   "id": "e7964d9e",
   "metadata": {},
   "outputs": [],
   "source": [
    "q= non_max_suppression_fast(r,0.49)"
   ]
  },
  {
   "cell_type": "code",
   "execution_count": null,
   "id": "f710ac12",
   "metadata": {},
   "outputs": [],
   "source": [
    "print(q)"
   ]
  },
  {
   "cell_type": "code",
   "execution_count": null,
   "id": "2e8554f0",
   "metadata": {},
   "outputs": [],
   "source": [
    "import cv2\n",
    "img =cv2.imread(r\"C:\\Users\\sachu\\Desktop\\My_Documents\\Research_Project\\Computer_Graphics\\CAR_TEST\\test_image\\000026.png\")\n",
    "\n",
    "for i in range (len(q)):\n",
    "    left = q[i][:2]\n",
    "    right =q[i][2:4]\n",
    "    cv2.rectangle(img,left,right,(0,255,0),thickness=2)\n",
    "cv2.imwrite(r\"C:\\Users\\sachu\\Desktop\\My_Documents\\Research_Project\\Computer_Graphics\\CAR_TEST\\test_image\\Result\\res.png\",img)\n",
    "cv2.imshow('Image',img)\n",
    "cv2.waitKey(0) \n",
    "cv2.destroyAllWindows() \n",
    "\n",
    "\n",
    "\n",
    "\n"
   ]
  }
 ],
 "metadata": {
  "kernelspec": {
   "display_name": "Python 3 (ipykernel)",
   "language": "python",
   "name": "python3"
  },
  "language_info": {
   "codemirror_mode": {
    "name": "ipython",
    "version": 3
   },
   "file_extension": ".py",
   "mimetype": "text/x-python",
   "name": "python",
   "nbconvert_exporter": "python",
   "pygments_lexer": "ipython3",
   "version": "3.9.12"
  }
 },
 "nbformat": 4,
 "nbformat_minor": 5
}
